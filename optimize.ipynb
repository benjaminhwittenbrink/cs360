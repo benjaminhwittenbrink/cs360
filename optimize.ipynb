{
 "cells": [
  {
   "cell_type": "code",
   "execution_count": 3,
   "id": "febcc3b0-4634-41ad-a18d-61c3e1755542",
   "metadata": {
    "tags": []
   },
   "outputs": [],
   "source": [
    "import scipy as sp\n",
    "import numpy as np "
   ]
  },
  {
   "cell_type": "code",
   "execution_count": 11,
   "id": "ceb3df3d-ef72-4ad5-82da-9d9d66e2c2ca",
   "metadata": {
    "tags": []
   },
   "outputs": [],
   "source": [
    "N = 20 \n",
    "N_types = 3\n",
    "A = np.zeros((N, N_types))"
   ]
  },
  {
   "cell_type": "code",
   "execution_count": 54,
   "id": "af9f703e-9da0-4fe2-beaa-8a11ff8636c5",
   "metadata": {
    "tags": []
   },
   "outputs": [],
   "source": [
    "# value of time = 1\n",
    "A[:, -1] = -1\n",
    "# value of money \n",
    "A[:, 1] = - np.random.randint(1, 11, N)\n",
    "# value of good\n",
    "A[:, 0] = np.random.randint(1, 11, N)"
   ]
  },
  {
   "cell_type": "code",
   "execution_count": 162,
   "id": "130003ea-c608-4268-9197-472643a03e69",
   "metadata": {
    "tags": []
   },
   "outputs": [],
   "source": [
    "A = np.array([[100, -100, -1], [1, -1, -1]])"
   ]
  },
  {
   "cell_type": "code",
   "execution_count": 163,
   "id": "dd646d39-2246-40e4-9b80-6815d8900a8c",
   "metadata": {
    "tags": []
   },
   "outputs": [
    {
     "data": {
      "text/plain": [
       "array([[ 100, -100,   -1],\n",
       "       [   1,   -1,   -1]])"
      ]
     },
     "execution_count": 163,
     "metadata": {},
     "output_type": "execute_result"
    }
   ],
   "source": [
    "A"
   ]
  },
  {
   "cell_type": "code",
   "execution_count": 197,
   "id": "99c0b8d1-34d6-4dcf-94ea-bedf6260245d",
   "metadata": {
    "tags": []
   },
   "outputs": [],
   "source": [
    "def obj(menu, agents, alpha = 1, q = 1): \n",
    "    # N_type is (x, p, t)\n",
    "    # menu is N_type * number of menu items\n",
    "    menu = menu.reshape((-1, 3))\n",
    "    menu_zero = np.vstack((menu, [0, 0, 0]))    \n",
    "    # get utility of each menu item for each agent\n",
    "    val = agents.dot(menu_zero.T)\n",
    "    # get menu item chosen\n",
    "    menu_util_chosen = np.argmax(val, 1)\n",
    "    # get menu item chosen utility\n",
    "    menu_util = np.max(val, 1)\n",
    "    # calculate welfare\n",
    "    welfare = np.sum(menu_util)\n",
    "    # calculate revenue\n",
    "    revenue = np.sum(menu_zero[menu_util_chosen, 1])\n",
    "    quantity = np.sum(menu_zero[menu_util_chosen, 0])\n",
    "    V = welfare + alpha * revenue if quantity <= q else 0\n",
    "    return - V"
   ]
  },
  {
   "cell_type": "code",
   "execution_count": 191,
   "id": "3f823afa-bfa9-4721-a7da-8f441a67c625",
   "metadata": {
    "tags": []
   },
   "outputs": [
    {
     "data": {
      "text/plain": [
       "(3,)"
      ]
     },
     "execution_count": 191,
     "metadata": {},
     "output_type": "execute_result"
    }
   ],
   "source": [
    "menu.shape"
   ]
  },
  {
   "cell_type": "code",
   "execution_count": 193,
   "id": "3d3d0a7c-7dcb-49ae-966d-a40df5250d68",
   "metadata": {
    "tags": []
   },
   "outputs": [],
   "source": [
    "def constraints_fn(x):\n",
    "    allocations = x[0]\n",
    "    prices = x[1]\n",
    "    times = x[2]\n",
    "    \n",
    "    constraints = []\n",
    "    \n",
    "    constraints.append(allocations) # >= 0 \n",
    "    constraints.append(1 - allocations) # <= 1\n",
    "    \n",
    "    constraints.append(prices) # >= 0 \n",
    "    constraints.append(times)  # >= 0 \n",
    "    \n",
    "    con = np.array(constraints)\n",
    "    \n",
    "    return con"
   ]
  },
  {
   "cell_type": "code",
   "execution_count": 94,
   "id": "17c9c5c3-adab-44d0-9cc2-117d84ec7d51",
   "metadata": {
    "collapsed": true,
    "jupyter": {
     "outputs_hidden": true
    },
    "tags": []
   },
   "outputs": [
    {
     "name": "stdout",
     "output_type": "stream",
     "text": [
      "[[-3.3800e+00 -6.8100e+00  0.0000e+00]\n",
      " [-3.2800e+00 -6.3600e+00  0.0000e+00]\n",
      " [-1.8000e-01 -8.1000e-01  0.0000e+00]\n",
      " [-3.5800e+00 -6.6600e+00  0.0000e+00]\n",
      " [-1.1800e+00 -2.5100e+00  0.0000e+00]\n",
      " [-2.9800e+00 -6.0600e+00  0.0000e+00]\n",
      " [-2.0800e+00 -4.1100e+00  0.0000e+00]\n",
      " [-1.0800e+00 -1.7100e+00  0.0000e+00]\n",
      " [-2.5800e+00 -5.3100e+00  0.0000e+00]\n",
      " [-2.5800e+00 -4.9600e+00  0.0000e+00]\n",
      " [-1.3800e+00 -2.7100e+00  0.0000e+00]\n",
      " [-2.7800e+00 -5.5100e+00  0.0000e+00]\n",
      " [-2.9800e+00 -5.7100e+00  0.0000e+00]\n",
      " [-3.8800e+00 -7.3100e+00  0.0000e+00]\n",
      " [-2.5800e+00 -4.6100e+00  0.0000e+00]\n",
      " [-2.5800e+00 -4.9600e+00  0.0000e+00]\n",
      " [-2.8800e+00 -5.6100e+00  0.0000e+00]\n",
      " [-3.0800e+00 -6.1600e+00  0.0000e+00]\n",
      " [-1.3800e+00 -2.7100e+00  0.0000e+00]\n",
      " [-2.2800e+00 -3.9600e+00  0.0000e+00]\n",
      " [ 9.9922e+02  9.9894e+02  0.0000e+00]]\n",
      "welf 999.22\n",
      "rev 0.4\n"
     ]
    },
    {
     "data": {
      "text/plain": [
       "999.62"
      ]
     },
     "execution_count": 94,
     "metadata": {},
     "output_type": "execute_result"
    }
   ],
   "source": [
    "obj(menu, np.vstack((A, [10000, -1, -1])))"
   ]
  },
  {
   "cell_type": "code",
   "execution_count": 217,
   "id": "3f6f243a-bff2-4719-9d1c-754c8aedfc6e",
   "metadata": {
    "tags": []
   },
   "outputs": [],
   "source": [
    "menu = np.array([0.7, 0.2, 50])"
   ]
  },
  {
   "cell_type": "code",
   "execution_count": 218,
   "id": "9b22679c-108d-4ae4-9b63-1b41b5fb7ff4",
   "metadata": {
    "tags": []
   },
   "outputs": [],
   "source": [
    "constraints = {'type': 'ineq', 'fun' : constraints_fn}"
   ]
  },
  {
   "cell_type": "code",
   "execution_count": 219,
   "id": "7efce804-a772-45a6-ade8-bf3e2eae400a",
   "metadata": {
    "tags": []
   },
   "outputs": [],
   "source": [
    "res = sp.optimize.minimize(\n",
    "    obj, \n",
    "    menu, \n",
    "    method = 'COBYLA', \n",
    "    constraints = constraints, \n",
    "    args = (A), \n",
    "    options = {\"maxiter\": 100000}\n",
    ")"
   ]
  },
  {
   "cell_type": "code",
   "execution_count": 220,
   "id": "1e07984f-6207-437c-a247-57b7f97b24c3",
   "metadata": {
    "tags": []
   },
   "outputs": [
    {
     "data": {
      "text/plain": [
       "     fun: -98.99008032431666\n",
       "   maxcv: 0.0\n",
       " message: 'Optimization terminated successfully.'\n",
       "    nfev: 47246\n",
       "  status: 1\n",
       " success: True\n",
       "       x: array([1.00000000e+00, 1.00000000e-04, 1.00001968e+00])"
      ]
     },
     "execution_count": 220,
     "metadata": {},
     "output_type": "execute_result"
    }
   ],
   "source": [
    "res"
   ]
  },
  {
   "cell_type": "code",
   "execution_count": 221,
   "id": "a65ec381-4a79-4a41-89ae-c5cf7e72bbc7",
   "metadata": {
    "tags": []
   },
   "outputs": [
    {
     "data": {
      "text/plain": [
       "array([1., 0., 1.])"
      ]
     },
     "execution_count": 221,
     "metadata": {},
     "output_type": "execute_result"
    }
   ],
   "source": [
    "np.round(res.x, 3)"
   ]
  },
  {
   "cell_type": "code",
   "execution_count": null,
   "id": "eb47956a-c5fc-4626-9d98-c4bd412445a3",
   "metadata": {},
   "outputs": [],
   "source": []
  }
 ],
 "metadata": {
  "kernelspec": {
   "display_name": "Python 3 (ipykernel)",
   "language": "python",
   "name": "python3"
  },
  "language_info": {
   "codemirror_mode": {
    "name": "ipython",
    "version": 3
   },
   "file_extension": ".py",
   "mimetype": "text/x-python",
   "name": "python",
   "nbconvert_exporter": "python",
   "pygments_lexer": "ipython3",
   "version": "3.10.9"
  }
 },
 "nbformat": 4,
 "nbformat_minor": 5
}
