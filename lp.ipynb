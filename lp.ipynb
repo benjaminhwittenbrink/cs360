{
 "cells": [
  {
   "cell_type": "code",
   "execution_count": null,
   "id": "045b6510-e91b-4392-b6f5-8da51b09fb12",
   "metadata": {},
   "outputs": [],
   "source": [
    "import pulp\n",
    "import matplotlib.pyplot as plt \n",
    "import numpy as npa "
   ]
  },
  {
   "cell_type": "code",
   "execution_count": null,
   "id": "657dc1da-8c1e-4ce4-8737-4c86151cfb11",
   "metadata": {},
   "outputs": [],
   "source": [
    "# Check IR and IC constraints\n",
    "eps = 1e-4\n",
    "for i in range(N):\n",
    "    util_i = agents[i][0] * allocations[i] - agents[i][1] * prices[i] - times[i]\n",
    "    if util_i + eps < 0: print(f\"IR violated at {i}\")\n",
    "    for j in range(N):\n",
    "        if i != j:\n",
    "            util_j = agents[i][0] * allocations[j] - agents[i][1] * prices[j] - times[j]\n",
    "            if util_i + eps < util_j:\n",
    "                print(f\"IC violated at ({i}, {j})\")\n",
    "                print(f\"Utility of i: {util_i}; Utility of j: {util_j}\")\n"
   ]
  },
  {
   "cell_type": "markdown",
   "id": "2a43aed4-8e85-4cb1-9bf8-cd6884d8d78e",
   "metadata": {
    "jp-MarkdownHeadingCollapsed": true
   },
   "source": [
    "### Indifference Curves\n",
    "\n",
    "Below we will complete an exercise to plot the indifference regions induced by the menus."
   ]
  },
  {
   "cell_type": "code",
   "execution_count": null,
   "id": "92e1ff57-323b-4f8f-acfa-64cdfe866039",
   "metadata": {},
   "outputs": [],
   "source": [
    "# convert menus to array \n",
    "menus_arr = np.vstack(list(menus.keys()))\n",
    "\n",
    "# define function to get optimal menu given a row\n",
    "def get_optimal_menu(row):\n",
    "    row = row.copy()\n",
    "    row[1] *= -1 \n",
    "    row = np.concatenate((row, [-1]))\n",
    "    val = menus_arr.dot(row)\n",
    "    return np.argmax(val)\n",
    "\n",
    "# define grid\n",
    "x = np.linspace(0, 101, 1000)\n",
    "y = np.linspace(0, 101, 1000)\n",
    "xv, yv = np.meshgrid(x, y)\n",
    "xygrid = np.vstack((xv.flatten(), yv.flatten())).T"
   ]
  },
  {
   "cell_type": "code",
   "execution_count": null,
   "id": "4980224b-b877-476f-b6fd-6a35b46b8869",
   "metadata": {},
   "outputs": [],
   "source": [
    "# get optimal menu at each point in grid, note this isn't most efficient way to do this\n",
    "opt_men = np.apply_along_axis(get_optimal_menu, 1, xygrid)"
   ]
  },
  {
   "cell_type": "code",
   "execution_count": null,
   "id": "7a065451-ccbf-489e-a6a4-d7a302db3c07",
   "metadata": {},
   "outputs": [],
   "source": [
    "# plot indifference curves\n",
    "\n",
    "fig, ax = plt.subplots(1, 1, figsize=(4,3))\n",
    "for i, b in enumerate(menus): \n",
    "    print(f\"Menu {i}: {np.round(b[0], digits)} got; {np.round(b[1], digits)} spent; {np.round(b[2], digits)} burned\")\n",
    "    pts_i = np.where(opt_men == i)\n",
    "    ax.scatter(xygrid[pts_i, 0], xygrid[pts_i, 1], color = colors[i], label = f\"Menu {i}\", s = 1)\n",
    "\n",
    "ax.set_xlabel(\"Value of good\")\n",
    "ax.set_ylabel(\"Value of money\")\n",
    "ax.legend(loc='center left', bbox_to_anchor=(1, 0.5))\n",
    "plt.tight_layout()\n",
    "plt.show()"
   ]
  },
  {
   "cell_type": "markdown",
   "id": "89bdc421-1d87-43b2-baf2-16531ad42352",
   "metadata": {},
   "source": [
    "### Function (LP)"
   ]
  },
  {
   "cell_type": "code",
   "execution_count": null,
   "id": "2ae7e69b-fc1a-4ab1-9b09-6d084b090717",
   "metadata": {},
   "outputs": [],
   "source": [
    "def run_lp_fixed_t(\n",
    "    agents, \n",
    "    M,\n",
    "    alpha, \n",
    "    T,\n",
    "    beta = 1\n",
    "):\n",
    "    # initialize LP \n",
    "    prob = pulp.LpProblem(\"Welfare_Maximization\", pulp.LpMaximize)\n",
    "    # Create variables\n",
    "    x = pulp.LpVariable.dicts(\"Allocation\", range(N), 0, 1)  # allocation per agent\n",
    "    p = pulp.LpVariable.dicts(\"Price\", range(N), 0)  # price per agent\n",
    "    choose_T = pulp.LpVariable.dicts(\"Choose_T\", range(N), cat='Binary')  # binary variable to decide t\n",
    "    # Objective function\n",
    "    prob += pulp.lpSum([beta * (agents[i][0] * x[i] - agents[i][1] * p[i] - choose_T[i] * T) + alpha * p[i] for i in range(N)])\n",
    "    # Constraint: sum of the allocations <= M\n",
    "    prob += pulp.lpSum(x) <= M\n",
    "    # Constraints: individual rationality and incentive compatibility\n",
    "    for i in range(N):\n",
    "        prob += agents[i][0] * x[i] - agents[i][1] * p[i] - choose_T[i] * T >= 0  # utility > 0\n",
    "        for j in range(N):\n",
    "            if i != j:\n",
    "                prob += agents[i][0] * x[i] - agents[i][1] * p[i] - choose_T[i] * T >= agents[i][0] * x[j] - agents[i][1] * p[j] - choose_T[j] * T  # utility from own allocation >= utility from other's allocation\n",
    "    # Solve problem\n",
    "    prob.solve(pulp.PULP_CBC_CMD(msg=0))\n",
    "\n",
    "    # Store optimal values \n",
    "    allocations = []\n",
    "    prices = []\n",
    "    times = []\n",
    "    nonzero_i = []\n",
    "    menus = {}\n",
    "    menus[0.0, 0.0, 0.0] = []\n",
    "    for i in range(N):\n",
    "        t = T if choose_T[i].varValue == 1 else 0\n",
    "        bundle = (np.round(x[i].varValue, 3), np.round(p[i].varValue, 3), t)\n",
    "        allocations.append(bundle[0])\n",
    "        prices.append(bundle[1])\n",
    "        times.append(bundle[2])\n",
    "        if x[i].varValue > 0: nonzero_i.append(i)\n",
    "    \n",
    "        if bundle not in menus: \n",
    "            menus[bundle] = []\n",
    "    \n",
    "        menus[bundle].append(i)\n",
    "\n",
    "    return menus, (allocations, prices, times)"
   ]
  },
  {
   "cell_type": "code",
   "execution_count": null,
   "id": "3ecd0ddf-88eb-49dc-8c3f-13e0d8bc1c49",
   "metadata": {},
   "outputs": [],
   "source": [
    "def run_ilp_fixed_t(\n",
    "    agents, \n",
    "    M,\n",
    "    alpha, \n",
    "    T,\n",
    "    beta = 1\n",
    "):\n",
    "    # initialize LP \n",
    "    prob = pulp.LpProblem(\"Welfare_Maximization\", pulp.LpMaximize)\n",
    "    # Create variables\n",
    "    x = pulp.LpVariable.dicts(\"Allocation\", range(N), 0, 1, cat = \"Integer\")  # allocation per agent\n",
    "    p = pulp.LpVariable.dicts(\"Price\", range(N), 0)  # price per agent\n",
    "    choose_T = pulp.LpVariable.dicts(\"Choose_T\", range(N), cat='Binary')  # binary variable to decide t\n",
    "    # Objective function\n",
    "    prob += pulp.lpSum([beta * (agents[i][0] * x[i] - agents[i][1] * p[i] - choose_T[i] * T) + alpha * p[i] for i in range(N)])\n",
    "    # Constraint: sum of the allocations <= M\n",
    "    prob += pulp.lpSum(x) <= M\n",
    "    # Constraints: individual rationality and incentive compatibility\n",
    "    for i in range(N):\n",
    "        prob += agents[i][0] * x[i] - agents[i][1] * p[i] - choose_T[i] * T >= 0  # utility > 0\n",
    "        for j in range(N):\n",
    "            if i != j:\n",
    "                prob += agents[i][0] * x[i] - agents[i][1] * p[i] - choose_T[i] * T >= agents[i][0] * x[j] - agents[i][1] * p[j] - choose_T[j] * T  # utility from own allocation >= utility from other's allocation\n",
    "    # Solve problem\n",
    "    prob.solve(pulp.PULP_CBC_CMD(msg=0))\n",
    "\n",
    "    # Store optimal values \n",
    "    allocations = []\n",
    "    prices = []\n",
    "    times = []\n",
    "    nonzero_i = []\n",
    "    menus = {}\n",
    "    menus[0.0, 0.0, 0.0] = []\n",
    "    for i in range(N):\n",
    "        t = T if choose_T[i].varValue == 1 else 0\n",
    "        bundle = (np.round(x[i].varValue, 3), np.round(p[i].varValue, 3), t)\n",
    "        allocations.append(bundle[0])\n",
    "        prices.append(bundle[1])\n",
    "        times.append(bundle[2])\n",
    "        if x[i].varValue > 0: nonzero_i.append(i)\n",
    "    \n",
    "        if bundle not in menus: \n",
    "            menus[bundle] = []\n",
    "    \n",
    "        menus[bundle].append(i)\n",
    "\n",
    "    return menus, (allocations, prices, times)"
   ]
  },
  {
   "cell_type": "code",
   "execution_count": null,
   "id": "607cb074-12e9-42b2-9625-0ec6853d8b28",
   "metadata": {},
   "outputs": [],
   "source": [
    "def run_lp(\n",
    "    agents, \n",
    "    M,\n",
    "    alpha, \n",
    "    beta = 1\n",
    "):\n",
    "    # initialize LP \n",
    "    prob = pulp.LpProblem(\"Welfare_Maximization\", pulp.LpMaximize)\n",
    "    # Create variables\n",
    "    x = pulp.LpVariable.dicts(\"Allocation\", range(N), 0, 1)  # allocation per agent\n",
    "    p = pulp.LpVariable.dicts(\"Price\", range(N), 0)  # price per agent\n",
    "    t = pulp.LpVariable.dicts(\"Time\", range(N), 0)  # time per agent\n",
    "    # Objective function\n",
    "    prob += pulp.lpSum([beta * (agents[i][0] * x[i] - agents[i][1] * p[i] - t[i]) + alpha * p[i] for i in range(N)])\n",
    "    # Constraint: sum of the allocations <= M\n",
    "    prob += pulp.lpSum(x) <= M\n",
    "    for i in range(N):\n",
    "        prob += agents[i][0] * x[i] - agents[i][1] * p[i] - t[i] >= 0  # utility > 0\n",
    "    # Constraints: individual rationality and incentive compatibility\n",
    "    for i in range(N):\n",
    "        prob += agents[i][0] * x[i] - agents[i][1] * p[i] - t[i] >= 0  # utility > 0\n",
    "        for j in range(N):\n",
    "            if i != j:\n",
    "                prob += agents[i][0] * x[i] - agents[i][1] * p[i] - t[i] >= agents[i][0] * x[j] - agents[i][1] * p[j] - t[j]  # utility from own allocation >= utility from other's allocation\n",
    "    # Solve problem\n",
    "    prob.solve(pulp.PULP_CBC_CMD(msg=0))\n",
    "\n",
    "    # Store optimal values \n",
    "    allocations = []\n",
    "    prices = []\n",
    "    times = []\n",
    "    nonzero_i = []\n",
    "    menus = {}\n",
    "    menus[0.0, 0.0, 0.0] = []\n",
    "    for i in range(N):\n",
    "        bundle = (np.round(x[i].varValue, 3), np.round(p[i].varValue, 3), np.round(t[i].varValue, 3))\n",
    "        allocations.append(bundle[0])\n",
    "        prices.append(bundle[1])\n",
    "        times.append(bundle[2])\n",
    "        if x[i].varValue > 0: nonzero_i.append(i)\n",
    "    \n",
    "        if bundle not in menus: \n",
    "            menus[bundle] = []\n",
    "    \n",
    "        menus[bundle].append(i)\n",
    "\n",
    "    return menus, (allocations, prices, times)"
   ]
  },
  {
   "cell_type": "code",
   "execution_count": null,
   "id": "a121e48e-b818-472c-8724-9f879c4b2401",
   "metadata": {},
   "outputs": [],
   "source": [
    "def run_ilp(\n",
    "    agents, \n",
    "    M,\n",
    "    alpha, \n",
    "    beta = 1\n",
    "):\n",
    "    # initialize LP \n",
    "    prob = pulp.LpProblem(\"Welfare_Maximization\", pulp.LpMaximize)\n",
    "    # Create variables\n",
    "    x = pulp.LpVariable.dicts(\"Allocation\", range(N), 0, 1, cat = \"Integer\")  # allocation per agent\n",
    "    p = pulp.LpVariable.dicts(\"Price\", range(N), 0)  # price per agent\n",
    "    t = pulp.LpVariable.dicts(\"Time\", range(N), 0)  # time per agent\n",
    "    # Objective function\n",
    "    prob += pulp.lpSum([beta * (agents[i][0] * x[i] - agents[i][1] * p[i] - t[i]) + alpha * p[i] for i in range(N)])\n",
    "    # Constraint: sum of the allocations <= M\n",
    "    prob += pulp.lpSum(x) <= M\n",
    "    for i in range(N):\n",
    "        prob += agents[i][0] * x[i] - agents[i][1] * p[i] - t[i] >= 0  # utility > 0\n",
    "    # Constraints: individual rationality and incentive compatibility\n",
    "    for i in range(N):\n",
    "        prob += agents[i][0] * x[i] - agents[i][1] * p[i] - t[i] >= 0  # utility > 0\n",
    "        for j in range(N):\n",
    "            if i != j:\n",
    "                prob += agents[i][0] * x[i] - agents[i][1] * p[i] - t[i] >= agents[i][0] * x[j] - agents[i][1] * p[j] - t[j]  # utility from own allocation >= utility from other's allocation\n",
    "    # Solve problem\n",
    "    prob.solve(pulp.PULP_CBC_CMD(msg=0))\n",
    "\n",
    "    # Store optimal values \n",
    "    allocations = []\n",
    "    prices = []\n",
    "    times = []\n",
    "    nonzero_i = []\n",
    "    menus = {}\n",
    "    menus[0.0, 0.0, 0.0] = []\n",
    "    for i in range(N):\n",
    "        bundle = (np.round(x[i].varValue, 3), np.round(p[i].varValue, 3), np.round(t[i].varValue, 3))\n",
    "        allocations.append(bundle[0])\n",
    "        prices.append(bundle[1])\n",
    "        times.append(bundle[2])\n",
    "        if x[i].varValue > 0: nonzero_i.append(i)\n",
    "    \n",
    "        if bundle not in menus: \n",
    "            menus[bundle] = []\n",
    "    \n",
    "        menus[bundle].append(i)\n",
    "\n",
    "    return menus, (allocations, prices, times)"
   ]
  },
  {
   "cell_type": "code",
   "execution_count": null,
   "id": "b616ae13-0590-4326-853e-1cd3ee091b75",
   "metadata": {},
   "outputs": [],
   "source": [
    "def plot_lp(agents, menus):\n",
    "    N = len(menus)\n",
    "    # let's visualize the menus by plots \n",
    "    cm = plt.get_cmap('gist_rainbow')\n",
    "    colors = [cm(1.*i/N) for i in range(N)]\n",
    "    \n",
    "    fig, ax = plt.subplots(1, 1, figsize=(4,3))\n",
    "    digits = 4\n",
    "    for i, b in enumerate(menus): \n",
    "        print(f\"Menu {i}: {np.round(b[0], digits)} got; {np.round(b[1], digits)} spent; {np.round(b[2], digits)} burned\")\n",
    "        agents_i = menus[b]\n",
    "        ax.scatter(agents[agents_i, 0], agents[agents_i, 1], color = colors[i], alpha = 0.25, label = f\"Menu {i}\")\n",
    "    \n",
    "    #ax.set_xlim(0, 101)\n",
    "    ax.set_xlabel(\"Value of good\")\n",
    "    ax.set_ylabel(\"Value of money\")\n",
    "    ax.legend(loc='center left', bbox_to_anchor=(1, 0.5))\n",
    "    plt.tight_layout()\n",
    "    plt.show()"
   ]
  },
  {
   "cell_type": "markdown",
   "id": "c8dcd712-265b-4592-8ea3-edaaba75b092",
   "metadata": {},
   "source": [
    "### Poor v. Rich agents"
   ]
  },
  {
   "cell_type": "code",
   "execution_count": null,
   "id": "a8aba894-adcc-4df1-b595-bdcc9e198706",
   "metadata": {},
   "outputs": [],
   "source": [
    "N = 100\n",
    "agents = np.zeros((N, 2))\n",
    "# all agents have same value of good \n",
    "agents[: N // 2, 0] = np.random.randint(60, 101, N // 2)\n",
    "agents[N // 2 :, 0] = np.random.randint(2, 40, N // 2)\n",
    "# half agents are poor\n",
    "agents[: N // 2, 1] = np.random.randint(60, 101, N // 2)\n",
    "# other half are rich \n",
    "agents[N // 2 :, 1] = np.random.randint(2, 40, N // 2)\n",
    "#agents[N // 2 :, 1] = 10"
   ]
  },
  {
   "cell_type": "markdown",
   "id": "2a155445-bc13-4b7d-9625-4a071c3fb23b",
   "metadata": {},
   "source": []
  },
  {
   "cell_type": "code",
   "execution_count": null,
   "id": "8c07b593-a417-412e-a03c-71d5f864beba",
   "metadata": {},
   "outputs": [],
   "source": []
  },
  {
   "cell_type": "markdown",
   "id": "f373ba2e-c47e-4071-8b06-6d5b221b1e7a",
   "metadata": {},
   "source": [
    "### Define agents by r"
   ]
  },
  {
   "cell_type": "code",
   "execution_count": null,
   "id": "71e04c05-9934-4514-986c-c3220ddce9aa",
   "metadata": {},
   "outputs": [],
   "source": [
    "r = np.concatenate((np.random.uniform(0.1, 1, N // 4), np.random.uniform(1, 5, 3 * N // 4)))\n",
    "agents[:, 1] = np.random.uniform(1, 11, N)\n",
    "agents[:, 0] = r * agents[:, 1]"
   ]
  },
  {
   "cell_type": "code",
   "execution_count": null,
   "id": "fe8b2fde-2acd-4a68-8c6e-4a196945eb63",
   "metadata": {},
   "outputs": [],
   "source": [
    "menus, _ = run_lp(agents, M = 30, alpha = np.mean(agents[:, 1]), beta = 1)\n",
    "plot_lp(agents, menus)"
   ]
  },
  {
   "cell_type": "code",
   "execution_count": null,
   "id": "e3d2b94e-59ea-4920-8778-2b7c7dbb828f",
   "metadata": {},
   "outputs": [],
   "source": [
    "menus, _ = run_ilp(agents, M = 30, alpha = np.mean(agents[:, 1]), beta = 1)\n",
    "plot_lp(agents, menus)"
   ]
  },
  {
   "cell_type": "markdown",
   "id": "5c292e2c-2f90-449d-bb1a-989d05835266",
   "metadata": {},
   "source": [
    "### No correlation"
   ]
  },
  {
   "cell_type": "code",
   "execution_count": null,
   "id": "7f95d2bb-bc5f-4d03-a21e-b49b402a4393",
   "metadata": {},
   "outputs": [],
   "source": [
    "agents[:, 1] = np.random.uniform(1, 101, N)\n",
    "agents[:, 0] = np.random.uniform(1, 101, N)"
   ]
  },
  {
   "cell_type": "code",
   "execution_count": null,
   "id": "d28a00a1-8cbb-453f-bcbb-7c2c2dd95d34",
   "metadata": {},
   "outputs": [],
   "source": [
    "menus, _ = run_lp(agents, M = 30, alpha = np.mean(agents[:, 1]), beta = 1)\n",
    "plot_lp(agents, menus)"
   ]
  },
  {
   "cell_type": "code",
   "execution_count": null,
   "id": "3567f554-7c1a-4fbe-8726-ae9e403c66ee",
   "metadata": {},
   "outputs": [],
   "source": [
    "menus, _ = run_ilp(agents, M = 30, alpha = np.mean(agents[:, 1]), beta = 1)\n",
    "plot_lp(agents, menus)"
   ]
  },
  {
   "cell_type": "code",
   "execution_count": null,
   "id": "a0b55d9e-577e-4c5f-b59e-7ccec59b0438",
   "metadata": {},
   "outputs": [],
   "source": []
  }
 ],
 "metadata": {
  "kernelspec": {
   "display_name": "Python 3 (ipykernel)",
   "language": "python",
   "name": "python3"
  },
  "language_info": {
   "codemirror_mode": {
    "name": "ipython",
    "version": 3
   },
   "file_extension": ".py",
   "mimetype": "text/x-python",
   "name": "python",
   "nbconvert_exporter": "python",
   "pygments_lexer": "ipython3",
   "version": "3.11.3"
  }
 },
 "nbformat": 4,
 "nbformat_minor": 5
}
