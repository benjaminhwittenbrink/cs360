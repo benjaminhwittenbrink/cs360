{
 "cells": [
  {
   "cell_type": "code",
   "execution_count": 1,
   "id": "045b6510-e91b-4392-b6f5-8da51b09fb12",
   "metadata": {},
   "outputs": [],
   "source": [
    "import pulp"
   ]
  },
  {
   "cell_type": "code",
   "execution_count": 4,
   "id": "bffec873-dce2-4a53-b13e-0e625dee6d2f",
   "metadata": {},
   "outputs": [],
   "source": [
    "import numpy as np "
   ]
  },
  {
   "cell_type": "code",
   "execution_count": 15,
   "id": "49d6ef27-7744-4e36-ac35-7999d512e5be",
   "metadata": {},
   "outputs": [],
   "source": [
    "N = 10\n",
    "agents = np.zeros((N, 2))\n",
    "agents[:, 0] = np.random.randint(1, 11, N)\n",
    "agents[:, 1] = np.random.randint(1, 11, N)"
   ]
  },
  {
   "cell_type": "code",
   "execution_count": 16,
   "id": "7ecdf25f-c1c4-401f-906e-c4de7e64b7e4",
   "metadata": {},
   "outputs": [
    {
     "data": {
      "text/plain": [
       "array([[ 3.,  4.],\n",
       "       [ 5.,  4.],\n",
       "       [ 7.,  3.],\n",
       "       [ 8.,  2.],\n",
       "       [ 7., 10.],\n",
       "       [ 6.,  5.],\n",
       "       [ 1.,  8.],\n",
       "       [ 1.,  1.],\n",
       "       [ 2.,  5.],\n",
       "       [ 6.,  7.]])"
      ]
     },
     "execution_count": 16,
     "metadata": {},
     "output_type": "execute_result"
    }
   ],
   "source": [
    "agents"
   ]
  },
  {
   "cell_type": "code",
   "execution_count": 34,
   "id": "a1200567-3c64-4cc5-920c-ecf061215fdd",
   "metadata": {},
   "outputs": [],
   "source": [
    "M = 7"
   ]
  },
  {
   "cell_type": "code",
   "execution_count": 35,
   "id": "d10c88cf-45c7-4cef-acaa-58dea35e95b0",
   "metadata": {},
   "outputs": [],
   "source": [
    "prob = pulp.LpProblem(\"Welfare_Maximization\", pulp.LpMaximize)"
   ]
  },
  {
   "cell_type": "code",
   "execution_count": 36,
   "id": "aebd9312-073d-4e25-8a1c-a9be6c2db0fb",
   "metadata": {},
   "outputs": [],
   "source": [
    "# Create variables\n",
    "x = pulp.LpVariable.dicts(\"Allocation\", range(N), 0, 1)  # allocation per agent\n",
    "p = pulp.LpVariable.dicts(\"Price\", range(N), 0)  # price per agent\n",
    "t = pulp.LpVariable.dicts(\"Time\", range(N), 0)  # time per agent"
   ]
  },
  {
   "cell_type": "code",
   "execution_count": 37,
   "id": "d009202b-ac68-45e7-abc4-c158518eabb1",
   "metadata": {},
   "outputs": [],
   "source": [
    "# Objective function\n",
    "alpha = 3\n",
    "prob += pulp.lpSum([agents[i][0] * x[i] - agents[i][1] * p[i] - t[i] + alpha * p[i] for i in range(N)])"
   ]
  },
  {
   "cell_type": "code",
   "execution_count": 38,
   "id": "5390c3c6-0f26-416b-b503-99e2cf38160d",
   "metadata": {},
   "outputs": [],
   "source": [
    "# Constraint: sum of the allocations <= M\n",
    "prob += pulp.lpSum(x) <= M"
   ]
  },
  {
   "cell_type": "code",
   "execution_count": 39,
   "id": "19d79ee2-4818-4114-b72a-6c89a1920226",
   "metadata": {},
   "outputs": [],
   "source": [
    "for i in range(N):\n",
    "    prob += agents[i][0] * x[i] - agents[i][1] * p[i] - t[i] >= 0  # utility > 0\n"
   ]
  },
  {
   "cell_type": "code",
   "execution_count": 40,
   "id": "6f92a206-1d98-4939-bc8f-0a90448cea12",
   "metadata": {},
   "outputs": [],
   "source": [
    "# Constraints: individual rationality and incentive compatibility\n",
    "for i in range(N):\n",
    "    prob += agents[i][0] * x[i] - agents[i][1] * p[i] - t[i] >= 0  # utility > 0\n",
    "    for j in range(N):\n",
    "        if i != j:\n",
    "            prob += agents[i][0] * x[i] - agents[i][1] * p[i] - t[i] >= agents[i][0] * x[j] - agents[i][1] * p[j] - t[j]  # utility from own allocation >= utility from other's allocation\n"
   ]
  },
  {
   "cell_type": "code",
   "execution_count": 41,
   "id": "66dd9303-46cb-4518-a502-df1a59d4c687",
   "metadata": {},
   "outputs": [
    {
     "name": "stdout",
     "output_type": "stream",
     "text": [
      "Welcome to the CBC MILP Solver \n",
      "Version: 2.10.3 \n",
      "Build Date: Dec 15 2019 \n",
      "\n",
      "command line - /Users/benjaminwittenbrink/opt/anaconda3/envs/cs360/lib/python3.11/site-packages/pulp/solverdir/cbc/osx/64/cbc /var/folders/64/knc2zn357c35n6k0cyxpqm_40000gn/T/f658043fbf804c78aab2c181ba1e0b6f-pulp.mps max timeMode elapsed branch printingOptions all solution /var/folders/64/knc2zn357c35n6k0cyxpqm_40000gn/T/f658043fbf804c78aab2c181ba1e0b6f-pulp.sol (default strategy 1)\n",
      "At line 2 NAME          MODEL\n",
      "At line 3 ROWS\n",
      "At line 116 COLUMNS\n",
      "At line 757 RHS\n",
      "At line 869 BOUNDS\n",
      "At line 880 ENDATA\n",
      "Problem MODEL has 111 rows, 30 columns and 610 elements\n",
      "Coin0008I MODEL read with 0 errors\n",
      "Option for timeMode changed from cpu to elapsed\n",
      "Presolve 101 (-10) rows, 30 (0) columns and 580 (-30) elements\n",
      "0  Obj -0 Dual inf 48.999988 (12)\n",
      "31  Obj 36.164345 Primal inf 27.222434 (36)\n",
      "38  Obj 35.899441\n",
      "Optimal - objective value 35.899441\n",
      "After Postsolve, objective 35.899441, infeasibilities - dual 0 (0), primal 0 (0)\n",
      "Optimal objective 35.89944134 - 38 iterations time 0.002, Presolve 0.00\n",
      "Option for printingOptions changed from normal to all\n",
      "Total time (CPU seconds):       0.00   (Wallclock seconds):       0.00\n",
      "\n"
     ]
    },
    {
     "data": {
      "text/plain": [
       "1"
      ]
     },
     "execution_count": 41,
     "metadata": {},
     "output_type": "execute_result"
    }
   ],
   "source": [
    "# Solve problem\n",
    "prob.solve()"
   ]
  },
  {
   "cell_type": "code",
   "execution_count": 42,
   "id": "e58e088c-9be7-42ec-ba5a-933b6fd2cb6e",
   "metadata": {},
   "outputs": [
    {
     "name": "stdout",
     "output_type": "stream",
     "text": [
      "Agent 0: Allocation = 0.67039106, Price = 0.097765363, Time = 0.083798883\n",
      "Agent 1: Allocation = 0.83798883, Price = 0.20949721, Time = 0.1396648\n",
      "Agent 2: Allocation = 1.0, Price = 0.63407821, Time = 0.0\n",
      "Agent 3: Allocation = 1.0, Price = 0.63407821, Time = 0.0\n",
      "Agent 4: Allocation = 0.76815642, Price = 0.0, Time = 0.76815642\n",
      "Agent 5: Allocation = 0.83798883, Price = 0.20949721, Time = 0.1396648\n",
      "Agent 6: Allocation = 0.0, Price = 0.0, Time = 0.0\n",
      "Agent 7: Allocation = 0.55865922, Price = 0.069832402, Time = 0.0\n",
      "Agent 8: Allocation = 0.55865922, Price = 0.069832402, Time = 0.0\n",
      "Agent 9: Allocation = 0.76815642, Price = 0.0, Time = 0.76815642\n"
     ]
    }
   ],
   "source": [
    "# Print optimal values\n",
    "for i in range(N):\n",
    "    print(f\"Agent {i}: Allocation = {x[i].varValue}, Price = {p[i].varValue}, Time = {t[i].varValue}\")"
   ]
  },
  {
   "cell_type": "code",
   "execution_count": 43,
   "id": "3ccb46ff-872a-4783-823c-140a30111b56",
   "metadata": {},
   "outputs": [],
   "source": [
    "# Store optimal values \n",
    "allocations = []\n",
    "prices = []\n",
    "times = []\n",
    "for i in range(N):\n",
    "    allocations.append(x[i].varValue)\n",
    "    prices.append(p[i].varValue)\n",
    "    times.append(t[i].varValue)"
   ]
  },
  {
   "cell_type": "code",
   "execution_count": 49,
   "id": "4beedb43-d373-43d3-98e4-b4d166a64a20",
   "metadata": {},
   "outputs": [],
   "source": [
    "# Check IR and IC constraints\n",
    "eps = 1e-4\n",
    "for i in range(N):\n",
    "    util_i = agents[i][0] * allocations[i] - agents[i][1] * prices[i] - times[i]\n",
    "    if util_i + eps < 0: print(f\"IR violated at {i}\")\n",
    "    for j in range(N):\n",
    "        if i != j:\n",
    "            util_j = agents[i][0] * allocations[j] - agents[i][1] * prices[j] - times[j]\n",
    "            if util_i + eps < util_j:\n",
    "                print(f\"IC violated at ({i}, {j})\")\n",
    "                print(f\"Utility of i: {util_i}; Utility of j: {util_j}\")\n"
   ]
  },
  {
   "cell_type": "code",
   "execution_count": 45,
   "id": "644ab025-ab54-4c0f-b388-8c7233a139df",
   "metadata": {},
   "outputs": [
    {
     "data": {
      "text/plain": [
       "array([[ 3.,  4.],\n",
       "       [ 5.,  4.],\n",
       "       [ 7.,  3.],\n",
       "       [ 8.,  2.],\n",
       "       [ 7., 10.],\n",
       "       [ 6.,  5.],\n",
       "       [ 1.,  8.],\n",
       "       [ 1.,  1.],\n",
       "       [ 2.,  5.],\n",
       "       [ 6.,  7.]])"
      ]
     },
     "execution_count": 45,
     "metadata": {},
     "output_type": "execute_result"
    }
   ],
   "source": [
    "agents"
   ]
  },
  {
   "cell_type": "code",
   "execution_count": null,
   "id": "fce90ba2-f6cc-465f-8242-093b62afcadd",
   "metadata": {},
   "outputs": [],
   "source": []
  }
 ],
 "metadata": {
  "kernelspec": {
   "display_name": "Python 3 (ipykernel)",
   "language": "python",
   "name": "python3"
  },
  "language_info": {
   "codemirror_mode": {
    "name": "ipython",
    "version": 3
   },
   "file_extension": ".py",
   "mimetype": "text/x-python",
   "name": "python",
   "nbconvert_exporter": "python",
   "pygments_lexer": "ipython3",
   "version": "3.11.3"
  }
 },
 "nbformat": 4,
 "nbformat_minor": 5
}
