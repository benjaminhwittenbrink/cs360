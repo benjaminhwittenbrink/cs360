{
 "cells": [
  {
   "cell_type": "code",
   "execution_count": 1,
   "id": "045b6510-e91b-4392-b6f5-8da51b09fb12",
   "metadata": {},
   "outputs": [],
   "source": [
    "import pulp"
   ]
  },
  {
   "cell_type": "code",
   "execution_count": 80,
   "id": "8f343838-7fc3-40c2-a904-8bcc85b764dc",
   "metadata": {},
   "outputs": [],
   "source": [
    "import matplotlib.pyplot as plt "
   ]
  },
  {
   "cell_type": "code",
   "execution_count": 2,
   "id": "bffec873-dce2-4a53-b13e-0e625dee6d2f",
   "metadata": {},
   "outputs": [],
   "source": [
    "import numpy as np "
   ]
  },
  {
   "cell_type": "code",
   "execution_count": 40,
   "id": "49d6ef27-7744-4e36-ac35-7999d512e5be",
   "metadata": {},
   "outputs": [],
   "source": [
    "N = 50\n",
    "agents = np.zeros((N, 2))"
   ]
  },
  {
   "cell_type": "code",
   "execution_count": 41,
   "id": "4bb347f2-9ec0-440e-87e3-fe13ade79eb3",
   "metadata": {},
   "outputs": [],
   "source": [
    "# all agents have same value of good \n",
    "agents[:, 0] = np.random.randint(1, 101, N)\n",
    "# half agents are poor\n",
    "agents[: N // 2, 1] = np.random.randint(80, 101, N // 2)\n",
    "# other half are rich \n",
    "agents[N // 2 :, 1] = np.random.randint(1, 11, N // 2)"
   ]
  },
  {
   "cell_type": "code",
   "execution_count": 42,
   "id": "7ecdf25f-c1c4-401f-906e-c4de7e64b7e4",
   "metadata": {
    "collapsed": true,
    "jupyter": {
     "outputs_hidden": true
    },
    "scrolled": true
   },
   "outputs": [
    {
     "data": {
      "text/plain": [
       "array([[ 24.,  93.],\n",
       "       [ 40.,  85.],\n",
       "       [ 58.,  85.],\n",
       "       [ 49.,  95.],\n",
       "       [ 77.,  81.],\n",
       "       [ 28.,  95.],\n",
       "       [ 87., 100.],\n",
       "       [ 78.,  98.],\n",
       "       [  1.,  85.],\n",
       "       [ 46.,  82.],\n",
       "       [ 67.,  81.],\n",
       "       [ 54.,  92.],\n",
       "       [ 39.,  91.],\n",
       "       [ 47.,  88.],\n",
       "       [ 12.,  83.],\n",
       "       [ 35.,  81.],\n",
       "       [ 67.,  83.],\n",
       "       [ 86.,  86.],\n",
       "       [ 22., 100.],\n",
       "       [ 52.,  80.],\n",
       "       [  7.,  91.],\n",
       "       [ 93.,  99.],\n",
       "       [ 89.,  90.],\n",
       "       [  7.,  87.],\n",
       "       [  2.,  91.],\n",
       "       [ 27.,   4.],\n",
       "       [ 82.,   8.],\n",
       "       [ 76.,   4.],\n",
       "       [ 15.,   8.],\n",
       "       [ 99.,  10.],\n",
       "       [  2.,   7.],\n",
       "       [  6.,   9.],\n",
       "       [ 35.,   9.],\n",
       "       [ 96.,   6.],\n",
       "       [ 89.,   9.],\n",
       "       [ 16.,   5.],\n",
       "       [ 38.,   5.],\n",
       "       [ 16.,  10.],\n",
       "       [ 69.,   3.],\n",
       "       [ 32.,   6.],\n",
       "       [ 50.,   5.],\n",
       "       [ 30.,   4.],\n",
       "       [ 70.,  10.],\n",
       "       [ 56.,   1.],\n",
       "       [ 33.,   4.],\n",
       "       [ 27.,   6.],\n",
       "       [ 49.,   3.],\n",
       "       [ 53.,   9.],\n",
       "       [ 56.,   7.],\n",
       "       [ 75.,  10.]])"
      ]
     },
     "execution_count": 42,
     "metadata": {},
     "output_type": "execute_result"
    }
   ],
   "source": [
    "agents"
   ]
  },
  {
   "cell_type": "code",
   "execution_count": 164,
   "id": "a1200567-3c64-4cc5-920c-ecf061215fdd",
   "metadata": {},
   "outputs": [],
   "source": [
    "M = 10\n",
    "#alpha = np.mean(agents[:, 1])\n",
    "alpha = 0 "
   ]
  },
  {
   "cell_type": "code",
   "execution_count": 165,
   "id": "d10c88cf-45c7-4cef-acaa-58dea35e95b0",
   "metadata": {},
   "outputs": [],
   "source": [
    "prob = pulp.LpProblem(\"Welfare_Maximization\", pulp.LpMaximize)"
   ]
  },
  {
   "cell_type": "code",
   "execution_count": 166,
   "id": "aebd9312-073d-4e25-8a1c-a9be6c2db0fb",
   "metadata": {},
   "outputs": [],
   "source": [
    "# Create variables\n",
    "x = pulp.LpVariable.dicts(\"Allocation\", range(N), 0, 1)  # allocation per agent\n",
    "p = pulp.LpVariable.dicts(\"Price\", range(N), 0)  # price per agent\n",
    "t = pulp.LpVariable.dicts(\"Time\", range(N), 0)  # time per agent"
   ]
  },
  {
   "cell_type": "code",
   "execution_count": 167,
   "id": "d009202b-ac68-45e7-abc4-c158518eabb1",
   "metadata": {},
   "outputs": [],
   "source": [
    "# Objective function\n",
    "prob += pulp.lpSum([agents[i][0] * x[i] - agents[i][1] * p[i] - t[i] + alpha * p[i] for i in range(N)])"
   ]
  },
  {
   "cell_type": "code",
   "execution_count": 168,
   "id": "5390c3c6-0f26-416b-b503-99e2cf38160d",
   "metadata": {},
   "outputs": [],
   "source": [
    "# Constraint: sum of the allocations <= M\n",
    "prob += pulp.lpSum(x) <= M"
   ]
  },
  {
   "cell_type": "code",
   "execution_count": 169,
   "id": "19d79ee2-4818-4114-b72a-6c89a1920226",
   "metadata": {},
   "outputs": [],
   "source": [
    "for i in range(N):\n",
    "    prob += agents[i][0] * x[i] - agents[i][1] * p[i] - t[i] >= 0  # utility > 0\n"
   ]
  },
  {
   "cell_type": "code",
   "execution_count": 170,
   "id": "6f92a206-1d98-4939-bc8f-0a90448cea12",
   "metadata": {},
   "outputs": [],
   "source": [
    "# Constraints: individual rationality and incentive compatibility\n",
    "for i in range(N):\n",
    "    prob += agents[i][0] * x[i] - agents[i][1] * p[i] - t[i] >= 0  # utility > 0\n",
    "    for j in range(N):\n",
    "        if i != j:\n",
    "            prob += agents[i][0] * x[i] - agents[i][1] * p[i] - t[i] >= agents[i][0] * x[j] - agents[i][1] * p[j] - t[j]  # utility from own allocation >= utility from other's allocation\n"
   ]
  },
  {
   "cell_type": "code",
   "execution_count": 171,
   "id": "66dd9303-46cb-4518-a502-df1a59d4c687",
   "metadata": {},
   "outputs": [
    {
     "name": "stdout",
     "output_type": "stream",
     "text": [
      "Welcome to the CBC MILP Solver \n",
      "Version: 2.10.3 \n",
      "Build Date: Dec 15 2019 \n",
      "\n",
      "command line - /Users/benjaminwittenbrink/opt/anaconda3/envs/cs360/lib/python3.11/site-packages/pulp/solverdir/cbc/osx/64/cbc /var/folders/64/knc2zn357c35n6k0cyxpqm_40000gn/T/486178830712465eaba89131f0c359f6-pulp.mps max timeMode elapsed branch printingOptions all solution /var/folders/64/knc2zn357c35n6k0cyxpqm_40000gn/T/486178830712465eaba89131f0c359f6-pulp.sol (default strategy 1)\n",
      "At line 2 NAME          MODEL\n",
      "At line 3 ROWS\n",
      "At line 2556 COLUMNS\n",
      "At line 17757 RHS\n",
      "At line 20309 BOUNDS\n",
      "At line 20360 ENDATA\n",
      "Problem MODEL has 2551 rows, 150 columns and 15050 elements\n",
      "Coin0008I MODEL read with 0 errors\n",
      "Option for timeMode changed from cpu to elapsed\n",
      "Presolve 2501 (-50) rows, 150 (0) columns and 14900 (-150) elements\n",
      "0  Obj -0 Dual inf 21795.003 (50)\n",
      "84  Obj 563.8474 Primal inf 285.46043 (975)\n",
      "167  Obj 508.183 Primal inf 95.750703 (518)\n",
      "261  Obj 484.73547 Primal inf 1.2550342 (483)\n",
      "329  Obj 484.26828\n",
      "Optimal - objective value 484.26828\n",
      "After Postsolve, objective 484.26828, infeasibilities - dual 0 (0), primal 0 (0)\n",
      "Optimal objective 484.2682837 - 329 iterations time 0.022, Presolve 0.00\n",
      "Option for printingOptions changed from normal to all\n",
      "Total time (CPU seconds):       0.03   (Wallclock seconds):       0.05\n",
      "\n"
     ]
    },
    {
     "data": {
      "text/plain": [
       "1"
      ]
     },
     "execution_count": 171,
     "metadata": {},
     "output_type": "execute_result"
    }
   ],
   "source": [
    "# Solve problem\n",
    "prob.solve()"
   ]
  },
  {
   "cell_type": "code",
   "execution_count": 172,
   "id": "e58e088c-9be7-42ec-ba5a-933b6fd2cb6e",
   "metadata": {},
   "outputs": [
    {
     "name": "stdout",
     "output_type": "stream",
     "text": [
      "Agent 0: Allocation = 0.19806908, Price = 0.0, Time = 0.39613817\n",
      "Agent 1: Allocation = 0.19806908, Price = 0.0, Time = 0.39613817\n",
      "Agent 2: Allocation = 0.19806908, Price = 0.0, Time = 0.39613817\n",
      "Agent 3: Allocation = 0.19806908, Price = 0.0, Time = 0.39613817\n",
      "Agent 4: Allocation = 0.19806908, Price = 0.0, Time = 0.39613817\n",
      "Agent 5: Allocation = 0.19806908, Price = 0.0, Time = 0.39613817\n",
      "Agent 6: Allocation = 0.19806908, Price = 0.0, Time = 0.39613817\n",
      "Agent 7: Allocation = 0.19806908, Price = 0.0, Time = 0.39613817\n",
      "Agent 9: Allocation = 0.19806908, Price = 0.0, Time = 0.39613817\n",
      "Agent 10: Allocation = 0.19806908, Price = 0.0, Time = 0.39613817\n",
      "Agent 11: Allocation = 0.19806908, Price = 0.0, Time = 0.39613817\n",
      "Agent 12: Allocation = 0.19806908, Price = 0.0, Time = 0.39613817\n",
      "Agent 13: Allocation = 0.19806908, Price = 0.0, Time = 0.39613817\n",
      "Agent 14: Allocation = 0.19806908, Price = 0.0, Time = 0.39613817\n",
      "Agent 15: Allocation = 0.19806908, Price = 0.0, Time = 0.39613817\n",
      "Agent 16: Allocation = 0.19806908, Price = 0.0, Time = 0.39613817\n",
      "Agent 17: Allocation = 0.19806908, Price = 0.0, Time = 0.39613817\n",
      "Agent 18: Allocation = 0.19806908, Price = 0.0, Time = 0.39613817\n",
      "Agent 19: Allocation = 0.19806908, Price = 0.0, Time = 0.39613817\n",
      "Agent 20: Allocation = 0.19806908, Price = 0.0, Time = 0.39613817\n",
      "Agent 21: Allocation = 0.19806908, Price = 0.0, Time = 0.39613817\n",
      "Agent 22: Allocation = 0.19806908, Price = 0.0, Time = 0.39613817\n",
      "Agent 23: Allocation = 0.19806908, Price = 0.0, Time = 0.39613817\n",
      "Agent 25: Allocation = 0.22720334, Price = 0.064915239, Time = 0.0\n",
      "Agent 26: Allocation = 0.22933029, Price = 0.032479176, Time = 0.29139282\n",
      "Agent 27: Allocation = 0.22720334, Price = 0.064915239, Time = 0.0\n",
      "Agent 28: Allocation = 0.22659909, Price = 0.057060007, Time = 0.053778121\n",
      "Agent 29: Allocation = 0.22933029, Price = 0.032479176, Time = 0.29139282\n",
      "Agent 31: Allocation = 0.19806908, Price = 0.0, Time = 0.39613817\n",
      "Agent 32: Allocation = 0.22933029, Price = 0.032479176, Time = 0.29139282\n",
      "Agent 33: Allocation = 0.22933029, Price = 0.032479176, Time = 0.29139282\n",
      "Agent 34: Allocation = 0.22933029, Price = 0.032479176, Time = 0.29139282\n",
      "Agent 35: Allocation = 0.22720334, Price = 0.064915239, Time = 0.0\n",
      "Agent 36: Allocation = 0.22720334, Price = 0.064915239, Time = 0.0\n",
      "Agent 37: Allocation = 0.22933029, Price = 0.032479176, Time = 0.29139282\n",
      "Agent 38: Allocation = 0.22720334, Price = 0.064915239, Time = 0.0\n",
      "Agent 39: Allocation = 0.22720334, Price = 0.064915239, Time = 0.0\n",
      "Agent 40: Allocation = 0.22720334, Price = 0.064915239, Time = 0.0\n",
      "Agent 41: Allocation = 0.22720334, Price = 0.064915239, Time = 0.0\n",
      "Agent 42: Allocation = 0.22933029, Price = 0.032479176, Time = 0.29139282\n",
      "Agent 43: Allocation = 0.22720334, Price = 0.064915239, Time = 0.0\n",
      "Agent 44: Allocation = 0.22720334, Price = 0.064915239, Time = 0.0\n",
      "Agent 45: Allocation = 0.22720334, Price = 0.064915239, Time = 0.0\n",
      "Agent 46: Allocation = 0.22720334, Price = 0.064915239, Time = 0.0\n",
      "Agent 47: Allocation = 0.22933029, Price = 0.032479176, Time = 0.29139282\n",
      "Agent 48: Allocation = 0.22933029, Price = 0.032479176, Time = 0.29139282\n",
      "Agent 49: Allocation = 0.22933029, Price = 0.032479176, Time = 0.29139282\n"
     ]
    }
   ],
   "source": [
    "# Print optimal values\n",
    "for i in range(N):\n",
    "    if x[i].varValue != 0:\n",
    "        print(f\"Agent {i}: Allocation = {x[i].varValue}, Price = {p[i].varValue}, Time = {t[i].varValue}\")"
   ]
  },
  {
   "cell_type": "code",
   "execution_count": 173,
   "id": "3ccb46ff-872a-4783-823c-140a30111b56",
   "metadata": {},
   "outputs": [],
   "source": [
    "# Store optimal values \n",
    "allocations = []\n",
    "prices = []\n",
    "times = []\n",
    "nonzero_i = []\n",
    "menus = {}\n",
    "for i in range(N):\n",
    "    bundle = (x[i].varValue, p[i].varValue, t[i].varValue)\n",
    "    allocations.append(bundle[0])\n",
    "    prices.append(bundle[1])\n",
    "    times.append(bundle[2])\n",
    "    if x[i].varValue > 0: nonzero_i.append(i)\n",
    "\n",
    "    if bundle not in menus: \n",
    "        menus[bundle] = []\n",
    "\n",
    "    menus[bundle].append(i)"
   ]
  },
  {
   "cell_type": "code",
   "execution_count": 174,
   "id": "b6be6666-a97d-420e-a7c1-e4121ebad48a",
   "metadata": {},
   "outputs": [
    {
     "name": "stdout",
     "output_type": "stream",
     "text": [
      "Menu 0: 0.19806908 got; 0.0 spent; 0.39613817 burned: 24 agents\n",
      "Menu 1: 0.0 got; 0.0 spent; 0.0 burned: 3 agents\n",
      "Menu 2: 0.22720334 got; 0.064915239 spent; 0.0 burned: 12 agents\n",
      "Menu 3: 0.22933029 got; 0.032479176 spent; 0.29139282 burned: 10 agents\n",
      "Menu 4: 0.22659909 got; 0.057060007 spent; 0.053778121 burned: 1 agents\n"
     ]
    }
   ],
   "source": [
    "# N for each menu: \n",
    "for i, b in enumerate(menus): \n",
    "    print(f\"Menu {i}: {b[0]} got; {b[1]} spent; {b[2]} burned: {len(menus[b])} agents\")"
   ]
  },
  {
   "cell_type": "code",
   "execution_count": 175,
   "id": "80c8d606-0d02-42f4-a615-8a7e01c5198b",
   "metadata": {},
   "outputs": [
    {
     "name": "stdout",
     "output_type": "stream",
     "text": [
      "Menu 0: 0.1981 got; 0.0 spent; 0.3961 burned\n",
      "Menu 1: 0.0 got; 0.0 spent; 0.0 burned\n",
      "Menu 2: 0.2272 got; 0.0649 spent; 0.0 burned\n",
      "Menu 3: 0.2293 got; 0.0325 spent; 0.2914 burned\n",
      "Menu 4: 0.2266 got; 0.0571 spent; 0.0538 burned\n"
     ]
    },
    {
     "data": {
      "image/png": "[encoded data removed]",
      "text/plain": [
       "<Figure size 400x300 with 1 Axes>"
      ]
     },
     "metadata": {},
     "output_type": "display_data"
    }
   ],
   "source": [
    "# let's visualize the menus by plots \n",
    "colors = plt.rcParams['axes.prop_cycle'].by_key()['color']\n",
    "\n",
    "fig, ax = plt.subplots(1, 1, figsize=(4,3))\n",
    "digits = 4\n",
    "for i, b in enumerate(menus): \n",
    "    print(f\"Menu {i}: {np.round(b[0], digits)} got; {np.round(b[1], digits)} spent; {np.round(b[2], digits)} burned\")\n",
    "    agents_i = menus[b]\n",
    "    ax.scatter(agents[agents_i, 0], agents[agents_i, 1], color = colors[i], label = f\"Menu {i}\")\n",
    "\n",
    "ax.set_xlabel(\"Value of good\")\n",
    "ax.set_ylabel(\"Value of money\")\n",
    "ax.legend(loc='center left', bbox_to_anchor=(1, 0.5))\n",
    "plt.tight_layout()\n",
    "plt.show()"
   ]
  },
  {
   "cell_type": "code",
   "execution_count": 150,
   "id": "4beedb43-d373-43d3-98e4-b4d166a64a20",
   "metadata": {},
   "outputs": [],
   "source": [
    "# Check IR and IC constraints\n",
    "eps = 1e-4\n",
    "for i in range(N):\n",
    "    util_i = agents[i][0] * allocations[i] - agents[i][1] * prices[i] - times[i]\n",
    "    if util_i + eps < 0: print(f\"IR violated at {i}\")\n",
    "    for j in range(N):\n",
    "        if i != j:\n",
    "            util_j = agents[i][0] * allocations[j] - agents[i][1] * prices[j] - times[j]\n",
    "            if util_i + eps < util_j:\n",
    "                print(f\"IC violated at ({i}, {j})\")\n",
    "                print(f\"Utility of i: {util_i}; Utility of j: {util_j}\")\n"
   ]
  },
  {
   "cell_type": "code",
   "execution_count": null,
   "id": "a8aba894-adcc-4df1-b595-bdcc9e198706",
   "metadata": {},
   "outputs": [],
   "source": []
  }
 ],
 "metadata": {
  "kernelspec": {
   "display_name": "Python 3 (ipykernel)",
   "language": "python",
   "name": "python3"
  },
  "language_info": {
   "codemirror_mode": {
    "name": "ipython",
    "version": 3
   },
   "file_extension": ".py",
   "mimetype": "text/x-python",
   "name": "python",
   "nbconvert_exporter": "python",
   "pygments_lexer": "ipython3",
   "version": "3.11.3"
  }
 },
 "nbformat": 4,
 "nbformat_minor": 5
}
