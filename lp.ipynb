{
 "cells": [
  {
   "cell_type": "code",
   "execution_count": 1,
   "id": "045b6510-e91b-4392-b6f5-8da51b09fb12",
   "metadata": {},
   "outputs": [],
   "source": [
    "import pulp"
   ]
  },
  {
   "cell_type": "code",
   "execution_count": 2,
   "id": "8f343838-7fc3-40c2-a904-8bcc85b764dc",
   "metadata": {},
   "outputs": [],
   "source": [
    "import matplotlib.pyplot as plt "
   ]
  },
  {
   "cell_type": "code",
   "execution_count": 3,
   "id": "bffec873-dce2-4a53-b13e-0e625dee6d2f",
   "metadata": {},
   "outputs": [],
   "source": [
    "import numpy as np "
   ]
  },
  {
   "cell_type": "code",
   "execution_count": 4,
   "id": "49d6ef27-7744-4e36-ac35-7999d512e5be",
   "metadata": {},
   "outputs": [],
   "source": [
    "N = 10\n",
    "agents = np.zeros((N, 2))"
   ]
  },
  {
   "cell_type": "code",
   "execution_count": 5,
   "id": "4bb347f2-9ec0-440e-87e3-fe13ade79eb3",
   "metadata": {},
   "outputs": [],
   "source": [
    "# all agents have same value of good \n",
    "agents[:, 0] = np.random.randint(1, 101, N)\n",
    "# half agents are poor\n",
    "agents[: N // 2, 1] = np.random.randint(80, 101, N // 2)\n",
    "# other half are rich \n",
    "agents[N // 2 :, 1] = np.random.randint(1, 11, N // 2)"
   ]
  },
  {
   "cell_type": "code",
   "execution_count": 6,
   "id": "7ecdf25f-c1c4-401f-906e-c4de7e64b7e4",
   "metadata": {
    "scrolled": true
   },
   "outputs": [
    {
     "data": {
      "text/plain": [
       "array([[ 61.,  90.],\n",
       "       [ 92.,  85.],\n",
       "       [ 79.,  87.],\n",
       "       [ 93.,  83.],\n",
       "       [ 13.,  90.],\n",
       "       [100.,   7.],\n",
       "       [ 89.,   1.],\n",
       "       [ 94.,   1.],\n",
       "       [ 29.,   7.],\n",
       "       [ 44.,   4.]])"
      ]
     },
     "execution_count": 6,
     "metadata": {},
     "output_type": "execute_result"
    }
   ],
   "source": [
    "agents"
   ]
  },
  {
   "cell_type": "code",
   "execution_count": 7,
   "id": "a1200567-3c64-4cc5-920c-ecf061215fdd",
   "metadata": {},
   "outputs": [],
   "source": [
    "M = 5\n",
    "#alpha = np.mean(agents[:, 1])\n",
    "alpha = 0"
   ]
  },
  {
   "cell_type": "code",
   "execution_count": 8,
   "id": "d10c88cf-45c7-4cef-acaa-58dea35e95b0",
   "metadata": {},
   "outputs": [],
   "source": [
    "prob = pulp.LpProblem(\"Welfare_Maximization\", pulp.LpMaximize)"
   ]
  },
  {
   "cell_type": "code",
   "execution_count": 9,
   "id": "aebd9312-073d-4e25-8a1c-a9be6c2db0fb",
   "metadata": {},
   "outputs": [],
   "source": [
    "# Create variables\n",
    "x = pulp.LpVariable.dicts(\"Allocation\", range(N), 0, 1)  # allocation per agent\n",
    "p = pulp.LpVariable.dicts(\"Price\", range(N), 0)  # price per agent\n",
    "t = pulp.LpVariable.dicts(\"Time\", range(N), 0)  # time per agent"
   ]
  },
  {
   "cell_type": "code",
   "execution_count": 10,
   "id": "d009202b-ac68-45e7-abc4-c158518eabb1",
   "metadata": {},
   "outputs": [],
   "source": [
    "# Objective function\n",
    "prob += pulp.lpSum([agents[i][0] * x[i] - agents[i][1] * p[i] - t[i] + alpha * p[i] for i in range(N)])"
   ]
  },
  {
   "cell_type": "code",
   "execution_count": 11,
   "id": "5390c3c6-0f26-416b-b503-99e2cf38160d",
   "metadata": {},
   "outputs": [],
   "source": [
    "# Constraint: sum of the allocations <= M\n",
    "prob += pulp.lpSum(x) <= M"
   ]
  },
  {
   "cell_type": "code",
   "execution_count": 12,
   "id": "19d79ee2-4818-4114-b72a-6c89a1920226",
   "metadata": {},
   "outputs": [],
   "source": [
    "for i in range(N):\n",
    "    prob += agents[i][0] * x[i] - agents[i][1] * p[i] - t[i] >= 0  # utility > 0\n"
   ]
  },
  {
   "cell_type": "code",
   "execution_count": 13,
   "id": "6f92a206-1d98-4939-bc8f-0a90448cea12",
   "metadata": {},
   "outputs": [],
   "source": [
    "# Constraints: individual rationality and incentive compatibility\n",
    "for i in range(N):\n",
    "    prob += agents[i][0] * x[i] - agents[i][1] * p[i] - t[i] >= 0  # utility > 0\n",
    "    for j in range(N):\n",
    "        if i != j:\n",
    "            prob += agents[i][0] * x[i] - agents[i][1] * p[i] - t[i] >= agents[i][0] * x[j] - agents[i][1] * p[j] - t[j]  # utility from own allocation >= utility from other's allocation\n"
   ]
  },
  {
   "cell_type": "code",
   "execution_count": 14,
   "id": "66dd9303-46cb-4518-a502-df1a59d4c687",
   "metadata": {},
   "outputs": [
    {
     "name": "stdout",
     "output_type": "stream",
     "text": [
      "Welcome to the CBC MILP Solver \n",
      "Version: 2.10.3 \n",
      "Build Date: Dec 15 2019 \n",
      "\n",
      "command line - /Users/benjaminwittenbrink/opt/anaconda3/envs/cs360/lib/python3.11/site-packages/pulp/solverdir/cbc/osx/64/cbc /var/folders/64/knc2zn357c35n6k0cyxpqm_40000gn/T/8f3958f8cbc14a208fe8cab87612915a-pulp.mps max timeMode elapsed branch printingOptions all solution /var/folders/64/knc2zn357c35n6k0cyxpqm_40000gn/T/8f3958f8cbc14a208fe8cab87612915a-pulp.sol (default strategy 1)\n",
      "At line 2 NAME          MODEL\n",
      "At line 3 ROWS\n",
      "At line 116 COLUMNS\n",
      "At line 757 RHS\n",
      "At line 869 BOUNDS\n",
      "At line 880 ENDATA\n",
      "Problem MODEL has 111 rows, 30 columns and 610 elements\n",
      "Coin0008I MODEL read with 0 errors\n",
      "Option for timeMode changed from cpu to elapsed\n",
      "Presolve 101 (-10) rows, 30 (0) columns and 580 (-30) elements\n",
      "0  Obj -0 Dual inf 204.41509 (10)\n",
      "31  Obj 358.61603 Primal inf 1.2017134 (5)\n",
      "33  Obj 358.13956\n",
      "Optimal - objective value 358.13956\n",
      "After Postsolve, objective 358.13956, infeasibilities - dual 0 (0), primal 0 (0)\n",
      "Optimal objective 358.1395645 - 33 iterations time 0.002, Presolve 0.00\n",
      "Option for printingOptions changed from normal to all\n",
      "Total time (CPU seconds):       0.00   (Wallclock seconds):       0.00\n",
      "\n"
     ]
    },
    {
     "data": {
      "text/plain": [
       "1"
      ]
     },
     "execution_count": 14,
     "metadata": {},
     "output_type": "execute_result"
    }
   ],
   "source": [
    "# Solve problem\n",
    "prob.solve()"
   ]
  },
  {
   "cell_type": "code",
   "execution_count": 15,
   "id": "e58e088c-9be7-42ec-ba5a-933b6fd2cb6e",
   "metadata": {},
   "outputs": [
    {
     "name": "stdout",
     "output_type": "stream",
     "text": [
      "Agent 0: Allocation = 0.44679811, Price = 0.0, Time = 5.8083755\n",
      "Agent 1: Allocation = 0.44679811, Price = 0.0, Time = 5.8083755\n",
      "Agent 2: Allocation = 0.44679811, Price = 0.0, Time = 5.8083755\n",
      "Agent 3: Allocation = 0.44679811, Price = 0.0, Time = 5.8083755\n",
      "Agent 5: Allocation = 0.60135074, Price = 0.095861755, Time = 12.225244\n",
      "Agent 6: Allocation = 1.0, Price = 7.5373146, Time = 0.0\n",
      "Agent 7: Allocation = 1.0, Price = 7.5373146, Time = 0.0\n",
      "Agent 8: Allocation = 0.25541456, Price = 0.036893215, Time = 0.0\n",
      "Agent 9: Allocation = 0.35604225, Price = 0.45377933, Time = 0.0\n"
     ]
    }
   ],
   "source": [
    "# Print optimal values\n",
    "for i in range(N):\n",
    "    if x[i].varValue != 0:\n",
    "        print(f\"Agent {i}: Allocation = {x[i].varValue}, Price = {p[i].varValue}, Time = {t[i].varValue}\")"
   ]
  },
  {
   "cell_type": "code",
   "execution_count": 16,
   "id": "3ccb46ff-872a-4783-823c-140a30111b56",
   "metadata": {},
   "outputs": [
    {
     "name": "stdout",
     "output_type": "stream",
     "text": [
      "{(0.21761271, 0.002417919, 0.64074853): [0, 1, 2, 3, 5, 6, 7, 8, 10, 11, 12, 15, 16, 17, 18, 19, 20, 21, 22, 23, 24, 25, 27, 28, 29, 30, 31, 33, 36, 37, 39, 40, 41, 42, 44, 45, 47, 48, 49], (0.21755776, 0.0, 0.87023102): [4, 14], (0.0, 0.0, 0.0): [9, 13, 26, 46], (0.21559778, 0.12935867, 0.0): [32, 34, 35, 38, 43]}\n"
     ]
    }
   ],
   "source": [
    "# Store optimal values \n",
    "allocations = []\n",
    "prices = []\n",
    "times = []\n",
    "nonzero_i = []\n",
    "menus = {}\n",
    "menus[0.0, 0.0, 0.0] = []\n",
    "for i in range(N):\n",
    "    bundle = (x[i].varValue, p[i].varValue, t[i].varValue)\n",
    "    allocations.append(bundle[0])\n",
    "    prices.append(bundle[1])\n",
    "    times.append(bundle[2])\n",
    "    if x[i].varValue > 0: nonzero_i.append(i)\n",
    "\n",
    "    if bundle not in menus: \n",
    "        menus[bundle] = []\n",
    "\n",
    "    menus[bundle].append(i)"
   ]
  },
  {
   "cell_type": "code",
   "execution_count": 17,
   "id": "b6be6666-a97d-420e-a7c1-e4121ebad48a",
   "metadata": {},
   "outputs": [
    {
     "name": "stdout",
     "output_type": "stream",
     "text": [
      "Menu 0: 0.44679811 got; 0.0 spent; 5.8083755 burned: 4 agents\n",
      "Menu 1: 0.0 got; 0.0 spent; 0.0 burned: 1 agents\n",
      "Menu 2: 0.60135074 got; 0.095861755 spent; 12.225244 burned: 1 agents\n",
      "Menu 3: 1.0 got; 7.5373146 spent; 0.0 burned: 2 agents\n",
      "Menu 4: 0.25541456 got; 0.036893215 spent; 0.0 burned: 1 agents\n",
      "Menu 5: 0.35604225 got; 0.45377933 spent; 0.0 burned: 1 agents\n"
     ]
    }
   ],
   "source": [
    "# N for each menu: \n",
    "for i, b in enumerate(menus): \n",
    "    print(f\"Menu {i}: {b[0]} got; {b[1]} spent; {b[2]} burned: {len(menus[b])} agents\")"
   ]
  },
  {
   "cell_type": "code",
   "execution_count": 18,
   "id": "80c8d606-0d02-42f4-a615-8a7e01c5198b",
   "metadata": {},
   "outputs": [
    {
     "name": "stdout",
     "output_type": "stream",
     "text": [
      "Menu 0: 0.4468 got; 0.0 spent; 5.8084 burned\n",
      "Menu 1: 0.0 got; 0.0 spent; 0.0 burned\n",
      "Menu 2: 0.6014 got; 0.0959 spent; 12.2252 burned\n",
      "Menu 3: 1.0 got; 7.5373 spent; 0.0 burned\n",
      "Menu 4: 0.2554 got; 0.0369 spent; 0.0 burned\n",
      "Menu 5: 0.356 got; 0.4538 spent; 0.0 burned\n"
     ]
    },
    {
     "data": {
      "image/png": "[encoded data removed]",
      "text/plain": [
       "<Figure size 400x300 with 1 Axes>"
      ]
     },
     "metadata": {},
     "output_type": "display_data"
    }
   ],
   "source": [
    "# let's visualize the menus by plots \n",
    "colors = plt.rcParams['axes.prop_cycle'].by_key()['color']\n",
    "\n",
    "fig, ax = plt.subplots(1, 1, figsize=(4,3))\n",
    "digits = 4\n",
    "for i, b in enumerate(menus): \n",
    "    print(f\"Menu {i}: {np.round(b[0], digits)} got; {np.round(b[1], digits)} spent; {np.round(b[2], digits)} burned\")\n",
    "    agents_i = menus[b]\n",
    "    ax.scatter(agents[agents_i, 0], agents[agents_i, 1], color = colors[i], label = f\"Menu {i}\")\n",
    "\n",
    "ax.set_xlabel(\"Value of good\")\n",
    "ax.set_ylabel(\"Value of money\")\n",
    "ax.legend(loc='center left', bbox_to_anchor=(1, 0.5))\n",
    "plt.tight_layout()\n",
    "plt.show()"
   ]
  },
  {
   "cell_type": "code",
   "execution_count": 19,
   "id": "657dc1da-8c1e-4ce4-8737-4c86151cfb11",
   "metadata": {},
   "outputs": [],
   "source": [
    "# Check IR and IC constraints\n",
    "eps = 1e-4\n",
    "for i in range(N):\n",
    "    util_i = agents[i][0] * allocations[i] - agents[i][1] * prices[i] - times[i]\n",
    "    if util_i + eps < 0: print(f\"IR violated at {i}\")\n",
    "    for j in range(N):\n",
    "        if i != j:\n",
    "            util_j = agents[i][0] * allocations[j] - agents[i][1] * prices[j] - times[j]\n",
    "            if util_i + eps < util_j:\n",
    "                print(f\"IC violated at ({i}, {j})\")\n",
    "                print(f\"Utility of i: {util_i}; Utility of j: {util_j}\")\n"
   ]
  },
  {
   "cell_type": "markdown",
   "id": "2a43aed4-8e85-4cb1-9bf8-cd6884d8d78e",
   "metadata": {},
   "source": [
    "### Indifference Curves\n",
    "\n",
    "Below we will complete an exercise to plot the indifference regions induced by the menus."
   ]
  },
  {
   "cell_type": "code",
   "execution_count": 20,
   "id": "92e1ff57-323b-4f8f-acfa-64cdfe866039",
   "metadata": {},
   "outputs": [],
   "source": [
    "# convert menus to array \n",
    "menus_arr = np.vstack(list(menus.keys()))\n",
    "\n",
    "# define function to get optimal menu given a row\n",
    "def get_optimal_menu(row):\n",
    "    row = row.copy()\n",
    "    row[1] *= -1 \n",
    "    row = np.concatenate((row, [-1]))\n",
    "    val = menus_arr.dot(row)\n",
    "    return np.argmax(val)\n",
    "\n",
    "# define grid\n",
    "x = np.linspace(0, 101, 1000)\n",
    "y = np.linspace(0, 101, 1000)\n",
    "xv, yv = np.meshgrid(x, y)\n",
    "xygrid = np.vstack((xv.flatten(), yv.flatten())).T"
   ]
  },
  {
   "cell_type": "code",
   "execution_count": 21,
   "id": "4980224b-b877-476f-b6fd-6a35b46b8869",
   "metadata": {},
   "outputs": [],
   "source": [
    "# get optimal menu at each point in grid, note this isn't most efficient way to do this\n",
    "opt_men = np.apply_along_axis(get_optimal_menu, 1, xygrid)"
   ]
  },
  {
   "cell_type": "code",
   "execution_count": 22,
   "id": "7a065451-ccbf-489e-a6a4-d7a302db3c07",
   "metadata": {},
   "outputs": [
    {
     "name": "stdout",
     "output_type": "stream",
     "text": [
      "Menu 0: 0.4468 got; 0.0 spent; 5.8084 burned\n",
      "Menu 1: 0.0 got; 0.0 spent; 0.0 burned\n",
      "Menu 2: 0.6014 got; 0.0959 spent; 12.2252 burned\n",
      "Menu 3: 1.0 got; 7.5373 spent; 0.0 burned\n",
      "Menu 4: 0.2554 got; 0.0369 spent; 0.0 burned\n",
      "Menu 5: 0.356 got; 0.4538 spent; 0.0 burned\n"
     ]
    },
    {
     "data": {
      "image/png": "[encoded data removed]",
      "text/plain": [
       "<Figure size 400x300 with 1 Axes>"
      ]
     },
     "metadata": {},
     "output_type": "display_data"
    }
   ],
   "source": [
    "# plot indifference curves\n",
    "\n",
    "fig, ax = plt.subplots(1, 1, figsize=(4,3))\n",
    "for i, b in enumerate(menus): \n",
    "    print(f\"Menu {i}: {np.round(b[0], digits)} got; {np.round(b[1], digits)} spent; {np.round(b[2], digits)} burned\")\n",
    "    pts_i = np.where(opt_men == i)\n",
    "    ax.scatter(xygrid[pts_i, 0], xygrid[pts_i, 1], color = colors[i], label = f\"Menu {i}\", s = 1)\n",
    "\n",
    "ax.set_xlabel(\"Value of good\")\n",
    "ax.set_ylabel(\"Value of money\")\n",
    "ax.legend(loc='center left', bbox_to_anchor=(1, 0.5))\n",
    "plt.tight_layout()\n",
    "plt.show()"
   ]
  },
  {
   "cell_type": "code",
   "execution_count": null,
   "id": "9bb18181-61b8-4b55-94d4-73f95ecf0b9a",
   "metadata": {},
   "outputs": [],
   "source": []
  },
  {
   "cell_type": "code",
   "execution_count": null,
   "id": "09b891d5-d8bc-4ffb-abea-24de5ddea602",
   "metadata": {},
   "outputs": [],
   "source": []
  },
  {
   "cell_type": "code",
   "execution_count": null,
   "id": "a4cedc54-f82f-4547-ad28-46c9eff9460a",
   "metadata": {},
   "outputs": [],
   "source": []
  },
  {
   "cell_type": "code",
   "execution_count": null,
   "id": "068955cb-06ef-49bc-9a6f-b6afff07d966",
   "metadata": {},
   "outputs": [],
   "source": []
  },
  {
   "cell_type": "code",
   "execution_count": null,
   "id": "607cb074-12e9-42b2-9625-0ec6853d8b28",
   "metadata": {},
   "outputs": [],
   "source": []
  },
  {
   "cell_type": "code",
   "execution_count": null,
   "id": "a8aba894-adcc-4df1-b595-bdcc9e198706",
   "metadata": {},
   "outputs": [],
   "source": []
  }
 ],
 "metadata": {
  "kernelspec": {
   "display_name": "Python 3 (ipykernel)",
   "language": "python",
   "name": "python3"
  },
  "language_info": {
   "codemirror_mode": {
    "name": "ipython",
    "version": 3
   },
   "file_extension": ".py",
   "mimetype": "text/x-python",
   "name": "python",
   "nbconvert_exporter": "python",
   "pygments_lexer": "ipython3",
   "version": "3.11.3"
  }
 },
 "nbformat": 4,
 "nbformat_minor": 5
}
