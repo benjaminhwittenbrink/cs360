{
 "cells": [
  {
   "cell_type": "code",
   "execution_count": 1,
   "id": "045b6510-e91b-4392-b6f5-8da51b09fb12",
   "metadata": {},
   "outputs": [],
   "source": [
    "import pulp"
   ]
  },
  {
   "cell_type": "code",
   "execution_count": 2,
   "id": "8f343838-7fc3-40c2-a904-8bcc85b764dc",
   "metadata": {},
   "outputs": [],
   "source": [
    "import matplotlib.pyplot as plt "
   ]
  },
  {
   "cell_type": "code",
   "execution_count": 3,
   "id": "bffec873-dce2-4a53-b13e-0e625dee6d2f",
   "metadata": {},
   "outputs": [],
   "source": [
    "import numpy as np "
   ]
  },
  {
   "cell_type": "code",
   "execution_count": 4,
   "id": "49d6ef27-7744-4e36-ac35-7999d512e5be",
   "metadata": {},
   "outputs": [],
   "source": [
    "N = 50\n",
    "agents = np.zeros((N, 2))"
   ]
  },
  {
   "cell_type": "code",
   "execution_count": 5,
   "id": "4bb347f2-9ec0-440e-87e3-fe13ade79eb3",
   "metadata": {},
   "outputs": [],
   "source": [
    "# all agents have same value of good \n",
    "agents[:, 0] = np.random.randint(1, 101, N)\n",
    "# half agents are poor\n",
    "agents[: N // 2, 1] = np.random.randint(80, 101, N // 2)\n",
    "# other half are rich \n",
    "agents[N // 2 :, 1] = np.random.randint(1, 11, N // 2)"
   ]
  },
  {
   "cell_type": "code",
   "execution_count": 6,
   "id": "7ecdf25f-c1c4-401f-906e-c4de7e64b7e4",
   "metadata": {
    "scrolled": true
   },
   "outputs": [
    {
     "data": {
      "text/plain": [
       "array([[ 47.,  80.],\n",
       "       [ 98.,  94.],\n",
       "       [ 70.,  83.],\n",
       "       [ 91.,  95.],\n",
       "       [ 53., 100.],\n",
       "       [ 75.,  83.],\n",
       "       [ 47.,  94.],\n",
       "       [ 13.,  95.],\n",
       "       [ 67.,  81.],\n",
       "       [  2.,  98.],\n",
       "       [ 75.,  94.],\n",
       "       [ 74.,  80.],\n",
       "       [ 93.,  90.],\n",
       "       [  4.,  95.],\n",
       "       [ 48.,  96.],\n",
       "       [ 76.,  89.],\n",
       "       [ 51.,  89.],\n",
       "       [ 61.,  83.],\n",
       "       [ 68.,  80.],\n",
       "       [ 47.,  88.],\n",
       "       [ 41.,  88.],\n",
       "       [ 56.,  83.],\n",
       "       [ 16.,  93.],\n",
       "       [ 53.,  85.],\n",
       "       [ 97.,  90.],\n",
       "       [ 46.,   9.],\n",
       "       [  2.,   5.],\n",
       "       [ 92.,   8.],\n",
       "       [ 45.,  10.],\n",
       "       [ 72.,   6.],\n",
       "       [ 64.,   5.],\n",
       "       [ 30.,   5.],\n",
       "       [ 62.,   3.],\n",
       "       [ 39.,   9.],\n",
       "       [ 46.,   1.],\n",
       "       [ 66.,   4.],\n",
       "       [ 92.,   7.],\n",
       "       [ 11.,   6.],\n",
       "       [ 36.,   2.],\n",
       "       [ 89.,  10.],\n",
       "       [ 91.,  10.],\n",
       "       [ 14.,   7.],\n",
       "       [ 38.,   8.],\n",
       "       [ 68.,   3.],\n",
       "       [ 52.,   9.],\n",
       "       [ 33.,   8.],\n",
       "       [  3.,   5.],\n",
       "       [ 79.,   8.],\n",
       "       [ 92.,   6.],\n",
       "       [ 10.,   5.]])"
      ]
     },
     "execution_count": 6,
     "metadata": {},
     "output_type": "execute_result"
    }
   ],
   "source": [
    "agents"
   ]
  },
  {
   "cell_type": "code",
   "execution_count": 7,
   "id": "a1200567-3c64-4cc5-920c-ecf061215fdd",
   "metadata": {},
   "outputs": [],
   "source": [
    "M = 10\n",
    "#alpha = np.mean(agents[:, 1])\n",
    "alpha = 0 "
   ]
  },
  {
   "cell_type": "code",
   "execution_count": 8,
   "id": "d10c88cf-45c7-4cef-acaa-58dea35e95b0",
   "metadata": {},
   "outputs": [],
   "source": [
    "prob = pulp.LpProblem(\"Welfare_Maximization\", pulp.LpMaximize)"
   ]
  },
  {
   "cell_type": "code",
   "execution_count": 9,
   "id": "aebd9312-073d-4e25-8a1c-a9be6c2db0fb",
   "metadata": {},
   "outputs": [],
   "source": [
    "# Create variables\n",
    "x = pulp.LpVariable.dicts(\"Allocation\", range(N), 0, 1)  # allocation per agent\n",
    "p = pulp.LpVariable.dicts(\"Price\", range(N), 0)  # price per agent\n",
    "t = pulp.LpVariable.dicts(\"Time\", range(N), 0)  # time per agent"
   ]
  },
  {
   "cell_type": "code",
   "execution_count": 10,
   "id": "d009202b-ac68-45e7-abc4-c158518eabb1",
   "metadata": {},
   "outputs": [],
   "source": [
    "# Objective function\n",
    "prob += pulp.lpSum([agents[i][0] * x[i] - agents[i][1] * p[i] - t[i] + alpha * p[i] for i in range(N)])"
   ]
  },
  {
   "cell_type": "code",
   "execution_count": 11,
   "id": "5390c3c6-0f26-416b-b503-99e2cf38160d",
   "metadata": {},
   "outputs": [],
   "source": [
    "# Constraint: sum of the allocations <= M\n",
    "prob += pulp.lpSum(x) <= M"
   ]
  },
  {
   "cell_type": "code",
   "execution_count": 12,
   "id": "19d79ee2-4818-4114-b72a-6c89a1920226",
   "metadata": {},
   "outputs": [],
   "source": [
    "for i in range(N):\n",
    "    prob += agents[i][0] * x[i] - agents[i][1] * p[i] - t[i] >= 0  # utility > 0\n"
   ]
  },
  {
   "cell_type": "code",
   "execution_count": 13,
   "id": "6f92a206-1d98-4939-bc8f-0a90448cea12",
   "metadata": {},
   "outputs": [],
   "source": [
    "# Constraints: individual rationality and incentive compatibility\n",
    "for i in range(N):\n",
    "    prob += agents[i][0] * x[i] - agents[i][1] * p[i] - t[i] >= 0  # utility > 0\n",
    "    for j in range(N):\n",
    "        if i != j:\n",
    "            prob += agents[i][0] * x[i] - agents[i][1] * p[i] - t[i] >= agents[i][0] * x[j] - agents[i][1] * p[j] - t[j]  # utility from own allocation >= utility from other's allocation\n"
   ]
  },
  {
   "cell_type": "code",
   "execution_count": 14,
   "id": "66dd9303-46cb-4518-a502-df1a59d4c687",
   "metadata": {},
   "outputs": [
    {
     "data": {
      "text/plain": [
       "1"
      ]
     },
     "execution_count": 14,
     "metadata": {},
     "output_type": "execute_result"
    }
   ],
   "source": [
    "# Solve problem\n",
    "prob.solve()"
   ]
  },
  {
   "cell_type": "code",
   "execution_count": 15,
   "id": "e58e088c-9be7-42ec-ba5a-933b6fd2cb6e",
   "metadata": {},
   "outputs": [
    {
     "name": "stdout",
     "output_type": "stream",
     "text": [
      "Agent 0: Allocation = 0.21761271, Price = 0.002417919, Time = 0.64074853\n",
      "Agent 1: Allocation = 0.21761271, Price = 0.002417919, Time = 0.64074853\n",
      "Agent 2: Allocation = 0.21761271, Price = 0.002417919, Time = 0.64074853\n",
      "Agent 3: Allocation = 0.21761271, Price = 0.002417919, Time = 0.64074853\n",
      "Agent 4: Allocation = 0.21755776, Price = 0.0, Time = 0.87023102\n",
      "Agent 5: Allocation = 0.21761271, Price = 0.002417919, Time = 0.64074853\n",
      "Agent 6: Allocation = 0.21761271, Price = 0.002417919, Time = 0.64074853\n",
      "Agent 7: Allocation = 0.21761271, Price = 0.002417919, Time = 0.64074853\n",
      "Agent 8: Allocation = 0.21761271, Price = 0.002417919, Time = 0.64074853\n",
      "Agent 10: Allocation = 0.21761271, Price = 0.002417919, Time = 0.64074853\n",
      "Agent 11: Allocation = 0.21761271, Price = 0.002417919, Time = 0.64074853\n",
      "Agent 12: Allocation = 0.21761271, Price = 0.002417919, Time = 0.64074853\n",
      "Agent 14: Allocation = 0.21755776, Price = 0.0, Time = 0.87023102\n",
      "Agent 15: Allocation = 0.21761271, Price = 0.002417919, Time = 0.64074853\n",
      "Agent 16: Allocation = 0.21761271, Price = 0.002417919, Time = 0.64074853\n",
      "Agent 17: Allocation = 0.21761271, Price = 0.002417919, Time = 0.64074853\n",
      "Agent 18: Allocation = 0.21761271, Price = 0.002417919, Time = 0.64074853\n",
      "Agent 19: Allocation = 0.21761271, Price = 0.002417919, Time = 0.64074853\n",
      "Agent 20: Allocation = 0.21761271, Price = 0.002417919, Time = 0.64074853\n",
      "Agent 21: Allocation = 0.21761271, Price = 0.002417919, Time = 0.64074853\n",
      "Agent 22: Allocation = 0.21761271, Price = 0.002417919, Time = 0.64074853\n",
      "Agent 23: Allocation = 0.21761271, Price = 0.002417919, Time = 0.64074853\n",
      "Agent 24: Allocation = 0.21761271, Price = 0.002417919, Time = 0.64074853\n",
      "Agent 25: Allocation = 0.21761271, Price = 0.002417919, Time = 0.64074853\n",
      "Agent 27: Allocation = 0.21761271, Price = 0.002417919, Time = 0.64074853\n",
      "Agent 28: Allocation = 0.21761271, Price = 0.002417919, Time = 0.64074853\n",
      "Agent 29: Allocation = 0.21761271, Price = 0.002417919, Time = 0.64074853\n",
      "Agent 30: Allocation = 0.21761271, Price = 0.002417919, Time = 0.64074853\n",
      "Agent 31: Allocation = 0.21761271, Price = 0.002417919, Time = 0.64074853\n",
      "Agent 32: Allocation = 0.21559778, Price = 0.12935867, Time = 0.0\n",
      "Agent 33: Allocation = 0.21761271, Price = 0.002417919, Time = 0.64074853\n",
      "Agent 34: Allocation = 0.21559778, Price = 0.12935867, Time = 0.0\n",
      "Agent 35: Allocation = 0.21559778, Price = 0.12935867, Time = 0.0\n",
      "Agent 36: Allocation = 0.21761271, Price = 0.002417919, Time = 0.64074853\n",
      "Agent 37: Allocation = 0.21761271, Price = 0.002417919, Time = 0.64074853\n",
      "Agent 38: Allocation = 0.21559778, Price = 0.12935867, Time = 0.0\n",
      "Agent 39: Allocation = 0.21761271, Price = 0.002417919, Time = 0.64074853\n",
      "Agent 40: Allocation = 0.21761271, Price = 0.002417919, Time = 0.64074853\n",
      "Agent 41: Allocation = 0.21761271, Price = 0.002417919, Time = 0.64074853\n",
      "Agent 42: Allocation = 0.21761271, Price = 0.002417919, Time = 0.64074853\n",
      "Agent 43: Allocation = 0.21559778, Price = 0.12935867, Time = 0.0\n",
      "Agent 44: Allocation = 0.21761271, Price = 0.002417919, Time = 0.64074853\n",
      "Agent 45: Allocation = 0.21761271, Price = 0.002417919, Time = 0.64074853\n",
      "Agent 47: Allocation = 0.21761271, Price = 0.002417919, Time = 0.64074853\n",
      "Agent 48: Allocation = 0.21761271, Price = 0.002417919, Time = 0.64074853\n",
      "Agent 49: Allocation = 0.21761271, Price = 0.002417919, Time = 0.64074853\n"
     ]
    }
   ],
   "source": [
    "# Print optimal values\n",
    "for i in range(N):\n",
    "    if x[i].varValue != 0:\n",
    "        print(f\"Agent {i}: Allocation = {x[i].varValue}, Price = {p[i].varValue}, Time = {t[i].varValue}\")"
   ]
  },
  {
   "cell_type": "code",
   "execution_count": 21,
   "id": "3ccb46ff-872a-4783-823c-140a30111b56",
   "metadata": {},
   "outputs": [
    {
     "name": "stdout",
     "output_type": "stream",
     "text": [
      "{(0.21761271, 0.002417919, 0.64074853): [0, 1, 2, 3, 5, 6, 7, 8, 10, 11, 12, 15, 16, 17, 18, 19, 20, 21, 22, 23, 24, 25, 27, 28, 29, 30, 31, 33, 36, 37, 39, 40, 41, 42, 44, 45, 47, 48, 49], (0.21755776, 0.0, 0.87023102): [4, 14], (0.0, 0.0, 0.0): [9, 13, 26, 46], (0.21559778, 0.12935867, 0.0): [32, 34, 35, 38, 43]}\n"
     ]
    }
   ],
   "source": [
    "# Store optimal values \n",
    "allocations = []\n",
    "prices = []\n",
    "times = []\n",
    "nonzero_i = []\n",
    "menus = {}\n",
    "menus[0.0, 0.0, 0.0] = []\n",
    "for i in range(N):\n",
    "    bundle = (x[i].varValue, p[i].varValue, t[i].varValue)\n",
    "    allocations.append(bundle[0])\n",
    "    prices.append(bundle[1])\n",
    "    times.append(bundle[2])\n",
    "    if x[i].varValue > 0: nonzero_i.append(i)\n",
    "\n",
    "    if bundle not in menus: \n",
    "        menus[bundle] = []\n",
    "\n",
    "    menus[bundle].append(i)"
   ]
  },
  {
   "cell_type": "code",
   "execution_count": 17,
   "id": "b6be6666-a97d-420e-a7c1-e4121ebad48a",
   "metadata": {},
   "outputs": [
    {
     "name": "stdout",
     "output_type": "stream",
     "text": [
      "Menu 0: 0.21761271 got; 0.002417919 spent; 0.64074853 burned: 39 agents\n",
      "Menu 1: 0.21755776 got; 0.0 spent; 0.87023102 burned: 2 agents\n",
      "Menu 2: 0.0 got; 0.0 spent; 0.0 burned: 4 agents\n",
      "Menu 3: 0.21559778 got; 0.12935867 spent; 0.0 burned: 5 agents\n"
     ]
    }
   ],
   "source": [
    "# N for each menu: \n",
    "for i, b in enumerate(menus): \n",
    "    print(f\"Menu {i}: {b[0]} got; {b[1]} spent; {b[2]} burned: {len(menus[b])} agents\")"
   ]
  },
  {
   "cell_type": "code",
   "execution_count": 18,
   "id": "80c8d606-0d02-42f4-a615-8a7e01c5198b",
   "metadata": {},
   "outputs": [
    {
     "name": "stdout",
     "output_type": "stream",
     "text": [
      "Menu 0: 0.2176 got; 0.0024 spent; 0.6407 burned\n",
      "Menu 1: 0.2176 got; 0.0 spent; 0.8702 burned\n",
      "Menu 2: 0.0 got; 0.0 spent; 0.0 burned\n",
      "Menu 3: 0.2156 got; 0.1294 spent; 0.0 burned\n"
     ]
    },
    {
     "data": {
      "image/png": "[encoded data removed]",
      "text/plain": [
       "<Figure size 400x300 with 1 Axes>"
      ]
     },
     "metadata": {},
     "output_type": "display_data"
    }
   ],
   "source": [
    "# let's visualize the menus by plots \n",
    "colors = plt.rcParams['axes.prop_cycle'].by_key()['color']\n",
    "\n",
    "fig, ax = plt.subplots(1, 1, figsize=(4,3))\n",
    "digits = 4\n",
    "for i, b in enumerate(menus): \n",
    "    print(f\"Menu {i}: {np.round(b[0], digits)} got; {np.round(b[1], digits)} spent; {np.round(b[2], digits)} burned\")\n",
    "    agents_i = menus[b]\n",
    "    ax.scatter(agents[agents_i, 0], agents[agents_i, 1], color = colors[i], label = f\"Menu {i}\")\n",
    "\n",
    "ax.set_xlabel(\"Value of good\")\n",
    "ax.set_ylabel(\"Value of money\")\n",
    "ax.legend(loc='center left', bbox_to_anchor=(1, 0.5))\n",
    "plt.tight_layout()\n",
    "plt.show()"
   ]
  },
  {
   "cell_type": "code",
   "execution_count": 19,
   "id": "4beedb43-d373-43d3-98e4-b4d166a64a20",
   "metadata": {},
   "outputs": [],
   "source": [
    "# Check IR and IC constraints\n",
    "eps = 1e-4\n",
    "for i in range(N):\n",
    "    util_i = agents[i][0] * allocations[i] - agents[i][1] * prices[i] - times[i]\n",
    "    if util_i + eps < 0: print(f\"IR violated at {i}\")\n",
    "    for j in range(N):\n",
    "        if i != j:\n",
    "            util_j = agents[i][0] * allocations[j] - agents[i][1] * prices[j] - times[j]\n",
    "            if util_i + eps < util_j:\n",
    "                print(f\"IC violated at ({i}, {j})\")\n",
    "                print(f\"Utility of i: {util_i}; Utility of j: {util_j}\")\n"
   ]
  },
  {
   "cell_type": "code",
   "execution_count": null,
   "id": "a8aba894-adcc-4df1-b595-bdcc9e198706",
   "metadata": {},
   "outputs": [],
   "source": []
  }
 ],
 "metadata": {
  "kernelspec": {
   "display_name": "Python 3 (ipykernel)",
   "language": "python",
   "name": "python3"
  },
  "language_info": {
   "codemirror_mode": {
    "name": "ipython",
    "version": 3
   },
   "file_extension": ".py",
   "mimetype": "text/x-python",
   "name": "python",
   "nbconvert_exporter": "python",
   "pygments_lexer": "ipython3",
   "version": "3.11.3"
  }
 },
 "nbformat": 4,
 "nbformat_minor": 5
}
